{
 "cells": [
  {
   "cell_type": "markdown",
   "metadata": {},
   "source": [
    "<h1>27.6 심사문제: 특정 문자가 들어있는 단어 찾기</h1>"
   ]
  },
  {
   "cell_type": "markdown",
   "metadata": {},
   "source": [
    "<h2>문자열이 저장된 words.txt 파일이 주어집니다(문자열은 한 줄로 저장되어 있습니다). words.txt 파일에서 문자 c가 포함된 단어를 각 줄에 출력하는 프로그램을 만드세요. 단어를 출력할 때는 등장한 순서대로 출력해야 하며 ,(콤마)와 .(점)은 출력하지 않아야 합니다.</h2>"
   ]
  },
  {
   "cell_type": "code",
   "execution_count": 1,
   "metadata": {},
   "outputs": [],
   "source": [
    "file = open('words.txt', 'w')\n",
    "file.write('Fortunately, however, for the reputation of Asteroid B-612, a Turkish dictator made a law that his subjects, under pain of death, should change to European costume. So in 1920 the astronomer gave his demonstration all over again, dressed with impressive style and elegance. And this time everybody accepted his report.')\n",
    "file.close()"
   ]
  },
  {
   "cell_type": "code",
   "execution_count": 10,
   "metadata": {},
   "outputs": [
    {
     "name": "stdout",
     "output_type": "stream",
     "text": [
      "dictator\n",
      "subjects\n",
      "change\n",
      "costume\n",
      "elegance\n",
      "accepted\n",
      "[\"['Fortunately,\", 'however,', 'for', 'the', 'reputation', 'of', 'Asteroid', 'B-612,', 'a', 'Turkish', 'dictator', 'made', 'a', 'law', 'that', 'his', 'subjects,', 'under', 'pain', 'of', 'death,', 'should', 'change', 'to', 'European', 'costume.', 'So', 'in', '1920', 'the', 'astronomer', 'gave', 'his', 'demonstration', 'all', 'over', 'again,', 'dressed', 'with', 'impressive', 'style', 'and', 'elegance.', 'And', 'this', 'time', 'everybody', 'accepted', 'his', \"report.']\"]\n"
     ]
    }
   ],
   "source": [
    "with open('words.txt', 'r') as file:\n",
    "    lines = str(file.readlines())\n",
    "lines = lines.split()\n",
    "for w in lines:\n",
    "    if '.' or ',' in w:\n",
    "        w = w.strip(',.')\n",
    "    if 'c' in w:\n",
    "        print(w)\n",
    "print(lines)"
   ]
  },
  {
   "cell_type": "code",
   "execution_count": null,
   "metadata": {},
   "outputs": [],
   "source": []
  }
 ],
 "metadata": {
  "kernelspec": {
   "display_name": "Python 3",
   "language": "python",
   "name": "python3"
  },
  "language_info": {
   "codemirror_mode": {
    "name": "ipython",
    "version": 3
   },
   "file_extension": ".py",
   "mimetype": "text/x-python",
   "name": "python",
   "nbconvert_exporter": "python",
   "pygments_lexer": "ipython3",
   "version": "3.7.6"
  }
 },
 "nbformat": 4,
 "nbformat_minor": 4
}
